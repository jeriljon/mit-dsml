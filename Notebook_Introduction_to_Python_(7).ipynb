{
  "cells": [
    {
      "cell_type": "markdown",
      "metadata": {
        "ExecuteTime": {
          "end_time": "2022-01-13T07:49:33.739251Z",
          "start_time": "2022-01-13T07:49:33.722307Z"
        },
        "id": "lju8JFWw_T5d"
      },
      "source": [
        "<body>\n",
        "<center><p float=\"center\">\n",
        "  <img src=\"https://mma.prnewswire.com/media/1458111/Great_Learning_Logo.jpg?p=facebook\" width=\"200\" height=\"100\"/>\n",
        "</p></center>\n",
        "<H1 align='center'><font color='blue'><font size=\"8\">&nbsp&nbsp&nbsp&nbsp&nbsp&nbsp&nbsp GETTING STARTED WITH PYTHON</font></H1>\n",
        "<H1 align='center'><font color='blue'><font size=\"5\">&nbsp&nbsp&nbsp&nbsp&nbsp&nbsp&nbspPREPARATORY SESSION </font></H2>\n",
        "</body>\n",
        "\n"
      ]
    },
    {
      "cell_type": "markdown",
      "source": [],
      "metadata": {
        "id": "N-dhbxGN_-DC"
      }
    },
    {
      "cell_type": "markdown",
      "metadata": {
        "id": "--A5_c2VWVCb"
      },
      "source": [
        "<center><img src=\"https://wallpapercave.com/wp/wp3105542.jpg\" width=\"1000\" height=\"600\"></center>"
      ]
    },
    {
      "cell_type": "markdown",
      "metadata": {
        "id": "xE_eAveW_T5k"
      },
      "source": [
        "<H1 align='left'><font color='blue'><font size=\"\">Session Agenda</font></H1>"
      ]
    },
    {
      "cell_type": "markdown",
      "metadata": {
        "id": "_z44-nUC_T5l"
      },
      "source": [
        "<font size='4'>\n",
        "<li> Printing Statements<br>\n",
        "<li> Introduction to variables<br>\n",
        "\n",
        "<li> Data Types: String, Integers and Float<br>\n",
        "<li> Data Structures: List, Tuples and Dictionary<br>\n",
        "\n",
        "<li>Introduction to conditional statements: if,else<br>\n",
        "<li>Introduction to Loops: for loop<br>\n"
      ]
    },
    {
      "cell_type": "markdown",
      "metadata": {
        "id": "L7VCMSFr_T5l"
      },
      "source": [
        "<H1 align='left'><font color='Blue'><font size=\"\">Introduction</font></H1>"
      ]
    },
    {
      "cell_type": "markdown",
      "metadata": {
        "id": "Vck6kdMfOuG1"
      },
      "source": [
        "![](https://drive.google.com/uc?export=view&id=1S-AgaBCMAi_3_Uv0JdP8PjtPTOZQ7U-M)\n",
        "\n",
        "<!-- <img src= \"https://image.shutterstock.com/image-photo/automobile-assembly-line-production-260nw-733812256.jpg\" width=\"1000\" height=\"500\"> -->\n",
        "\n",
        "<!-- <center><img src='https://drive.google.com/uc?export=view&id=1S-AgaBCMAi_3_Uv0JdP8PjtPTOZQ7U-M'></center> -->\n",
        "\n",
        "<!-- <p align=\"right\">\n",
        "  <img width=\"800\" height=\"400\" src=\"https://drive.google.com/uc?export=view&id=1S-AgaBCMAi_3_Uv0JdP8PjtPTOZQ7U-M\" alt=\"Material Bread logo\">\n",
        "</p> -->"
      ]
    },
    {
      "cell_type": "markdown",
      "metadata": {
        "id": "3LVeMQZN_T5m"
      },
      "source": [
        "<font size=\"4\">Automobiles are moving towards global production networks. With variability in automobile models, there is a lot of uncertainty in the demand. It requires better visibility towards car performance for investments as well as operation and to avoid the risk of inventory stock-outs.<br>\n",
        "<br>\n",
        "Cars Sons Ltd. is an automobile company incorportated on February, 1996. The company  offers a full range of cars from entry-level to stylish Hatchback along with Sedans, SUVs and MUVs. The company is engaged in the business of manufacturing, purchase and sale of motor vehicles and spare parts (automobiles).<br>\n",
        "<br>\n",
        "The company has booked a turnover of around $12.5mn last year. The company is looking forward to expanding its range of products and services and will introduce new types of the automobile in the market.<br>\n",
        "<br>\n",
        "You have been hired as a Data Scientist in Cars Sons Ltd. The data for the company products have been provided and are required to create structured data which includes the various attributes of the product along with the sales figures.\n",
        "</font>\n"
      ]
    },
    {
      "cell_type": "markdown",
      "metadata": {
        "id": "6x5LKyUx_T5t"
      },
      "source": [
        "# <font color='Blue'>Print Statements"
      ]
    },
    {
      "cell_type": "markdown",
      "metadata": {
        "id": "lSRSVB6C6n24"
      },
      "source": [
        "<font color='blue'>*To start with, let's print some details of the company*"
      ]
    },
    {
      "cell_type": "code",
      "execution_count": null,
      "metadata": {
        "ExecuteTime": {
          "end_time": "2022-01-14T19:00:04.149381Z",
          "start_time": "2022-01-14T19:00:04.142401Z"
        },
        "colab": {
          "base_uri": "https://localhost:8080/"
        },
        "id": "HyVC2Pj4_T5p",
        "outputId": "92575495-8ef6-43af-fbea-ae2111f444d3"
      },
      "outputs": [
        {
          "output_type": "stream",
          "name": "stdout",
          "text": [
            "The name of the company is Cars Sons Ltd.\n"
          ]
        }
      ],
      "source": [
        "print('The name of the company is Cars Sons Ltd.')"
      ]
    },
    {
      "cell_type": "code",
      "source": [
        "print(\"The name of the company is Cars Sons Ltd.\")"
      ],
      "metadata": {
        "colab": {
          "base_uri": "https://localhost:8080/"
        },
        "id": "xUMxWcbOAVdZ",
        "outputId": "4b9f7072-c687-409f-d76a-ff6f85294a07"
      },
      "execution_count": null,
      "outputs": [
        {
          "output_type": "stream",
          "name": "stdout",
          "text": [
            "The name of the company is Cars Sons Ltd.\n"
          ]
        }
      ]
    },
    {
      "cell_type": "code",
      "source": [
        "print(1996)"
      ],
      "metadata": {
        "colab": {
          "base_uri": "https://localhost:8080/"
        },
        "id": "_rgNZ-jlAg0a",
        "outputId": "f9276c60-daeb-452b-83cd-9864af5910ba"
      },
      "execution_count": null,
      "outputs": [
        {
          "output_type": "stream",
          "name": "stdout",
          "text": [
            "1996\n"
          ]
        }
      ]
    },
    {
      "cell_type": "markdown",
      "metadata": {
        "ExecuteTime": {
          "end_time": "2022-01-14T17:12:08.161735Z",
          "start_time": "2022-01-14T17:12:08.140747Z"
        },
        "id": "yFA0urCl_T5t"
      },
      "source": [
        "**The print() function prints the specified message to the screen or other standard output device.**\n"
      ]
    },
    {
      "cell_type": "code",
      "execution_count": null,
      "metadata": {
        "ExecuteTime": {
          "end_time": "2022-01-14T19:00:04.165339Z",
          "start_time": "2022-01-14T19:00:04.152373Z"
        },
        "colab": {
          "base_uri": "https://localhost:8080/"
        },
        "id": "CRkj8YNM_T5r",
        "outputId": "1e5a8e15-c64a-4aa5-b7fd-f39c1208fdab"
      },
      "outputs": [
        {
          "output_type": "stream",
          "name": "stdout",
          "text": [
            "The year the company was established is 1996\n"
          ]
        }
      ],
      "source": [
        "print('The year the company was established is',1996)"
      ]
    },
    {
      "cell_type": "code",
      "source": [
        "print('The year the company was established is', 1996)\n",
        "print('The year the company was established is' , 1996)"
      ],
      "metadata": {
        "colab": {
          "base_uri": "https://localhost:8080/"
        },
        "id": "Snr_4SW0AvQh",
        "outputId": "f2681a5b-f19e-499c-f653-2a38cbbb5cfa"
      },
      "execution_count": null,
      "outputs": [
        {
          "output_type": "stream",
          "name": "stdout",
          "text": [
            "The year the company was established is 1996\n",
            "The year the company was established is 1996\n"
          ]
        }
      ]
    },
    {
      "cell_type": "code",
      "source": [
        "print('The year the company was established is',1996,sep='')"
      ],
      "metadata": {
        "colab": {
          "base_uri": "https://localhost:8080/"
        },
        "id": "wz5GgM88A9ox",
        "outputId": "14ffce4d-933c-4cb1-ce1b-948655d4200f"
      },
      "execution_count": null,
      "outputs": [
        {
          "output_type": "stream",
          "name": "stdout",
          "text": [
            "The year the company was established is1996\n"
          ]
        }
      ]
    },
    {
      "cell_type": "code",
      "execution_count": null,
      "metadata": {
        "ExecuteTime": {
          "end_time": "2022-01-14T19:00:04.181299Z",
          "start_time": "2022-01-14T19:00:04.169329Z"
        },
        "colab": {
          "base_uri": "https://localhost:8080/"
        },
        "id": "wfZecByX_T5s",
        "outputId": "9d551392-d246-44c0-b593-287e7c45cebc"
      },
      "outputs": [
        {
          "output_type": "stream",
          "name": "stdout",
          "text": [
            "Total turnover of the company this year in Million $ is 12.5\n"
          ]
        }
      ],
      "source": [
        "print('Total turnover of the company this year in Million $ is',12.5)"
      ]
    },
    {
      "cell_type": "markdown",
      "metadata": {
        "id": "pJ-npkKlWzYp"
      },
      "source": [
        "### <font color='Blue'> *Your turn to code!* </font>"
      ]
    },
    {
      "cell_type": "code",
      "execution_count": null,
      "metadata": {
        "id": "By_OAlvkW2LV",
        "colab": {
          "base_uri": "https://localhost:8080/"
        },
        "outputId": "4db37e8c-19bd-42f0-db16-f66061d02f54"
      },
      "outputs": [
        {
          "output_type": "stream",
          "name": "stdout",
          "text": [
            "My name is John Snow\n",
            "I have total 8+ years of experience\n"
          ]
        }
      ],
      "source": [
        "# Print your details such as name, years of experience, etc. in the same way as shown above\n",
        "print(\"My name is John Snow\")\n",
        "print(\"I have total 8+ years of experience\")"
      ]
    },
    {
      "cell_type": "markdown",
      "metadata": {
        "id": "FYJoe9NE_T5s"
      },
      "source": [
        " **Since these values are not stored, they cannot be used in future. Therefore, we need to store them in some objects, which are known as *variables*.**"
      ]
    },
    {
      "cell_type": "code",
      "source": [
        "print(\"I work for\", \"Cars Sons Pvt. Ltd.\")\n",
        "print(\"The name of my company is\", \"Cars Sons Ltd.\")"
      ],
      "metadata": {
        "colab": {
          "base_uri": "https://localhost:8080/"
        },
        "id": "kCTDKZfOBUAS",
        "outputId": "89548f8c-ac0a-4be6-f017-3f233981ea55"
      },
      "execution_count": null,
      "outputs": [
        {
          "output_type": "stream",
          "name": "stdout",
          "text": [
            "I work for Cars Sons Pvt. Ltd.\n",
            "The name of my company is Cars Sons Ltd.\n"
          ]
        }
      ]
    },
    {
      "cell_type": "code",
      "source": [
        "company_name = \"Cars Sons Pvt. Ltd.\"\n",
        "print(\"I work for\", company_name)\n",
        "print(\"The name of company is\", company_name)"
      ],
      "metadata": {
        "colab": {
          "base_uri": "https://localhost:8080/"
        },
        "id": "Y4X0RH-kBpYQ",
        "outputId": "8e87e762-f4bf-407b-cee7-5498bd9b5ce2"
      },
      "execution_count": null,
      "outputs": [
        {
          "output_type": "stream",
          "name": "stdout",
          "text": [
            "I work for Cars Sons Pvt. Ltd.\n",
            "The name of company is Cars Sons Pvt. Ltd.\n"
          ]
        }
      ]
    },
    {
      "cell_type": "markdown",
      "metadata": {
        "id": "tx2K-QXUcghM"
      },
      "source": [
        "# <font color='Blue'>Variables"
      ]
    },
    {
      "cell_type": "markdown",
      "metadata": {
        "id": "Tb9XtHItYBzi"
      },
      "source": [
        "<font color='blue'>*Let's create a variable and store the name of the company in it.*"
      ]
    },
    {
      "cell_type": "code",
      "execution_count": null,
      "metadata": {
        "ExecuteTime": {
          "end_time": "2022-01-14T19:00:04.245127Z",
          "start_time": "2022-01-14T19:00:04.239141Z"
        },
        "colab": {
          "base_uri": "https://localhost:8080/"
        },
        "id": "uuuTo664A72A",
        "outputId": "ba734965-d806-4e3c-a020-4a4c76520000"
      },
      "outputs": [
        {
          "output_type": "stream",
          "name": "stdout",
          "text": [
            "The name of the company is Cars Sons Ltd.\n"
          ]
        }
      ],
      "source": [
        "company_name = \"Cars Sons Ltd.\" #variable is assigned and a value is stored in the variable\n",
        "print('The name of the company is',company_name) #to print a statement to the screen, print command is used"
      ]
    },
    {
      "cell_type": "markdown",
      "metadata": {
        "ExecuteTime": {
          "end_time": "2022-01-14T17:12:08.161735Z",
          "start_time": "2022-01-14T17:12:08.140747Z"
        },
        "id": "pipQYHlkcv8Y"
      },
      "source": [
        "**Variables are containers for storing any data values. A variable is created the moment you first assign a value to it.**\n",
        "* A variable name must start with a letter or the underscore character\n",
        "* A variable name cannot start with a number\n",
        "* A variable name can only contain alpha-numeric characters and underscores (A-z, 0-9, and _)\n",
        "* Variable names are case-sensitive (age, Age and AGE are three different variables)"
      ]
    },
    {
      "cell_type": "code",
      "source": [
        "print(company_name)"
      ],
      "metadata": {
        "colab": {
          "base_uri": "https://localhost:8080/"
        },
        "id": "ziYZ76AkCS3Q",
        "outputId": "ea492644-05c0-4ed1-e8b5-897151261a3f"
      },
      "execution_count": null,
      "outputs": [
        {
          "output_type": "stream",
          "name": "stdout",
          "text": [
            "Cars Sons Ltd.\n"
          ]
        }
      ]
    },
    {
      "cell_type": "markdown",
      "metadata": {
        "id": "FS_ELMPJi6ys"
      },
      "source": [
        "<font color='blue'>*Similarly we can store the year the company established in another variable*"
      ]
    },
    {
      "cell_type": "code",
      "execution_count": null,
      "metadata": {
        "ExecuteTime": {
          "end_time": "2022-01-14T19:00:04.291998Z",
          "start_time": "2022-01-14T19:00:04.274047Z"
        },
        "colab": {
          "base_uri": "https://localhost:8080/"
        },
        "id": "oPmugaNOBQ8N",
        "outputId": "4e6e4022-c9ad-470f-85a7-0b3f1e63b1c6"
      },
      "outputs": [
        {
          "output_type": "stream",
          "name": "stdout",
          "text": [
            "The year the company established is 1996\n"
          ]
        }
      ],
      "source": [
        "year_started = 1996\n",
        "print('The year the company established is',year_started)"
      ]
    },
    {
      "cell_type": "markdown",
      "metadata": {
        "id": "hULE2ByadmYi"
      },
      "source": [
        "### <font color='Blue'> *Your turn to code!* </font>"
      ]
    },
    {
      "cell_type": "code",
      "execution_count": null,
      "metadata": {
        "ExecuteTime": {
          "end_time": "2022-01-14T19:00:04.307958Z",
          "start_time": "2022-01-14T19:00:04.300977Z"
        },
        "id": "6z4c71uLBjzT",
        "colab": {
          "base_uri": "https://localhost:8080/"
        },
        "outputId": "13a7c693-1347-49c8-d06e-c03860bebf05"
      },
      "outputs": [
        {
          "output_type": "stream",
          "name": "stdout",
          "text": [
            "The total turnover of the company in Million $ is 12.5\n"
          ]
        }
      ],
      "source": [
        "# Create a variable to store the Total turnover of the company for this year and print the results\n",
        "total_turnover = 12.5\n",
        "print(\"The total turnover of the company in Million $ is\", total_turnover)"
      ]
    },
    {
      "cell_type": "markdown",
      "metadata": {
        "id": "g7-wMh0j_T5y"
      },
      "source": [
        "# <font color='Blue'> Datatypes"
      ]
    },
    {
      "cell_type": "code",
      "execution_count": null,
      "metadata": {
        "colab": {
          "base_uri": "https://localhost:8080/"
        },
        "id": "XF0GR3LGeF_w",
        "outputId": "596c49c5-391c-4787-ddf1-991755d8a8c3"
      },
      "outputs": [
        {
          "output_type": "stream",
          "name": "stdout",
          "text": [
            "The type of variables in company name is <class 'str'>\n"
          ]
        }
      ],
      "source": [
        "# we can also check the type of variables using type() function\n",
        "print('The type of variables in company name is',type(company_name))"
      ]
    },
    {
      "cell_type": "markdown",
      "metadata": {
        "id": "ZPkqs4ou_T5z"
      },
      "source": [
        "**Data types are the classification or categorization of data items. It represents the kind of value that tells what operations can be performed on a particular data. It can be an integer variable, a string variable, etc.**"
      ]
    },
    {
      "cell_type": "markdown",
      "metadata": {
        "ExecuteTime": {
          "end_time": "2022-01-11T18:10:06.329373Z",
          "start_time": "2022-01-11T18:10:06.318400Z"
        },
        "id": "KbZujs1Z6n28"
      },
      "source": [
        "**Any character which is placed between quotation marks is known as a *String*. Quotation marks can be single or double-quotes.**<br>\n",
        "For example in the above command characters 'The name of the company' is under quotation marks and will be considered as *String*. The value 'Cars Sons Ltd.' stored in the variable named company_name is also a *String* because it is written within quotation marks"
      ]
    },
    {
      "cell_type": "markdown",
      "metadata": {
        "id": "ACotbw5F_T5w"
      },
      "source": [
        "**Integer - Int, or integer, is a whole number, positive or negative, without decimals, of unlimited length.**<br>\n",
        "**Float - float, or \"floating-point number\" is a number, positive or negative, containing one\n",
        "or more decimals. Float can also be scientific numbers with an \"e\" to indicate the power\n",
        "of 10.**"
      ]
    },
    {
      "cell_type": "markdown",
      "metadata": {
        "id": "3XfDtv4y6n2-"
      },
      "source": [
        "In the above cells, we have printed different values of different data types.\n",
        "\n",
        "There are various data types in Python, such as:<br>\n",
        "1. Numeric - This is further divided into:\n",
        "\n",
        "    (a) Integer (int) - 1996    \n",
        "    (b) Float (float) - 12.5\n",
        "    \n",
        "\n",
        "2. String (str) - 'Cars Sons Ltd'</font>\n"
      ]
    },
    {
      "cell_type": "code",
      "execution_count": null,
      "metadata": {
        "ExecuteTime": {
          "end_time": "2022-01-14T19:00:04.419695Z",
          "start_time": "2022-01-14T19:00:04.399768Z"
        },
        "colab": {
          "base_uri": "https://localhost:8080/"
        },
        "id": "CTDAZAJRBo0C",
        "outputId": "abb8926f-8e3b-4da1-ea10-2368bf08d429"
      },
      "outputs": [
        {
          "output_type": "stream",
          "name": "stdout",
          "text": [
            "The type of variables in year started is <class 'int'>\n"
          ]
        }
      ],
      "source": [
        "print('The type of variables in year started is',type(year_started))\n"
      ]
    },
    {
      "cell_type": "markdown",
      "metadata": {
        "id": "7kGmhoG9_T5z"
      },
      "source": [
        "### <font color='Blue'> *Your turn to code!* </font>"
      ]
    },
    {
      "cell_type": "code",
      "execution_count": null,
      "metadata": {
        "ExecuteTime": {
          "end_time": "2022-01-14T19:00:04.435617Z",
          "start_time": "2022-01-14T19:00:04.428670Z"
        },
        "id": "vpplX_Nt_T5z",
        "colab": {
          "base_uri": "https://localhost:8080/"
        },
        "outputId": "d61c6009-02bd-4d0a-b807-be6dfdc7b3e0"
      },
      "outputs": [
        {
          "output_type": "stream",
          "name": "stdout",
          "text": [
            "<class 'float'>\n"
          ]
        }
      ],
      "source": [
        "# Check the data type of the variable you created above for the Total Turnover of the company\n",
        "print(type(total_turnover))"
      ]
    },
    {
      "cell_type": "code",
      "source": [
        "year_started = 2000"
      ],
      "metadata": {
        "id": "7c5TR2nhDoM3"
      },
      "execution_count": null,
      "outputs": []
    },
    {
      "cell_type": "markdown",
      "metadata": {
        "id": "UEu-rjItLNrK"
      },
      "source": [
        "# <font color='Blue'> Basic Operators\n"
      ]
    },
    {
      "cell_type": "markdown",
      "metadata": {
        "id": "XHUj0Jya6n3C"
      },
      "source": [
        "<font color='blue'>*Sales team has provided you with the details of the cars including the prices of each type of car.They have received an order of 10 Sedan cars and they need to evaluate total sales for this order.<br>To perform this, we can use Basic Arithmetic operators in Python*"
      ]
    },
    {
      "cell_type": "markdown",
      "metadata": {
        "id": "t5HUJwx1ju7z"
      },
      "source": [
        "**Python allows you to perform various operation on variables and values. You can also manipulate the values present in the variables**"
      ]
    },
    {
      "cell_type": "code",
      "execution_count": null,
      "metadata": {
        "ExecuteTime": {
          "end_time": "2022-01-14T19:00:04.514407Z",
          "start_time": "2022-01-14T19:00:04.502436Z"
        },
        "colab": {
          "base_uri": "https://localhost:8080/"
        },
        "id": "Xo4DfxUQLQlh",
        "outputId": "55d60cd6-4cf6-4275-f176-0bc63d2ee6a7"
      },
      "outputs": [
        {
          "output_type": "stream",
          "name": "stdout",
          "text": [
            "Price of 1 Sedan Cars in Million $ is 0.2\n",
            "Price of 2 Sedan Cars in Million $ is 0.4\n"
          ]
        }
      ],
      "source": [
        "# Suppose the price of one sedan car is $0.2mn\n",
        "price_sedan = 0.2 # variable to store the price of one Sedan car\n",
        "print('Price of 1 Sedan Cars in Million $ is',price_sedan)\n",
        "price_updated = price_sedan + price_sedan #By using Addition operator we have calculated the price of 2 sedan cars\n",
        "print('Price of 2 Sedan Cars in Million $ is',price_updated)"
      ]
    },
    {
      "cell_type": "markdown",
      "metadata": {
        "id": "EjlfemM0GgyS"
      },
      "source": [
        "**Python provides various operators for performing different types of caluclation on variables and values.<br> Below are some of the operators which are commonly used in python operations:**\n",
        "\n",
        "|Operator|Symbol in Python|Description|\n",
        "|---|---|---|\n",
        "|Addition| +|Adds values on either side of the operator|\n",
        "|Subtraction|-|Subtracts right hand operand from left hand operand|\n",
        "| Multiplication| *|Multiplies values on either side of the operator\n",
        "| Division| /|Divides left hand operand by right hand operand\n",
        "|Exponent|**|Performs exponential (power) calculation on operators\n",
        "|Modulus|%|Divides left hand operand by right hand operand and returns remainder\n"
      ]
    },
    {
      "cell_type": "markdown",
      "metadata": {
        "id": "id5tZgoB6n3C"
      },
      "source": [
        "**Let's get our hands dirty on some operators...**"
      ]
    },
    {
      "cell_type": "code",
      "execution_count": null,
      "metadata": {
        "ExecuteTime": {
          "end_time": "2022-01-14T19:00:04.530363Z",
          "start_time": "2022-01-14T19:00:04.517397Z"
        },
        "colab": {
          "base_uri": "https://localhost:8080/"
        },
        "id": "kgbWk7QX6n3E",
        "outputId": "ec585d37-55c7-4185-d361-b2cad1344a7a"
      },
      "outputs": [
        {
          "output_type": "stream",
          "name": "stdout",
          "text": [
            "Price of 10 Sedan Cars in Million $ is 2.0\n"
          ]
        }
      ],
      "source": [
        "price_final = price_sedan * 10 #By using Multiplication operator we have calculated the sales for the final order of 10 cars\n",
        "print('Price of 10 Sedan Cars in Million $ is',price_final)"
      ]
    },
    {
      "cell_type": "markdown",
      "metadata": {
        "id": "NrY1CMCaZumj"
      },
      "source": [
        "**Let's try to combine multiple operators...**"
      ]
    },
    {
      "cell_type": "code",
      "source": [
        "10 + 3 * 5 #65  ---> P E M D A S"
      ],
      "metadata": {
        "colab": {
          "base_uri": "https://localhost:8080/"
        },
        "id": "xSdoVE5NEKtm",
        "outputId": "c74dd55f-2968-4fa3-86b8-eaf2616e5c28"
      },
      "execution_count": null,
      "outputs": [
        {
          "output_type": "execute_result",
          "data": {
            "text/plain": [
              "25"
            ]
          },
          "metadata": {},
          "execution_count": 12
        }
      ]
    },
    {
      "cell_type": "code",
      "source": [
        "(10 + 3) * 5"
      ],
      "metadata": {
        "colab": {
          "base_uri": "https://localhost:8080/"
        },
        "id": "m9sWgEYGEkoN",
        "outputId": "d5d69977-d513-4cff-f7ab-66f2abd8cb05"
      },
      "execution_count": null,
      "outputs": [
        {
          "output_type": "execute_result",
          "data": {
            "text/plain": [
              "65"
            ]
          },
          "metadata": {},
          "execution_count": 13
        }
      ]
    },
    {
      "cell_type": "markdown",
      "metadata": {
        "id": "0stxMrxyZ2Up"
      },
      "source": [
        "<font color='blue'>*One of the most critical indicators automotive businesses need to be aware of is downtime. You have been provided with some details from the production department about the downtime hours for last month. To prepare a report you need to include the Average Downtime for the last month.*"
      ]
    },
    {
      "cell_type": "markdown",
      "metadata": {
        "id": "wmboedvzufMu"
      },
      "source": [
        "*Average Downtime = (downtime hours in a time period) ÷ (total time available to produce vehicles in the same time period) x 100*"
      ]
    },
    {
      "cell_type": "code",
      "execution_count": null,
      "metadata": {
        "colab": {
          "base_uri": "https://localhost:8080/"
        },
        "id": "HEvS5FMZojlz",
        "outputId": "894954e5-ef89-45a4-f1ce-799426eafa1d"
      },
      "outputs": [
        {
          "output_type": "stream",
          "name": "stdout",
          "text": [
            "The Average Downtime Hours for last month is 12.5\n"
          ]
        }
      ],
      "source": [
        "downtime_hours = 30 #downtime hours in a time period\n",
        "total_time = 240 #total time available to produce vehicles in the same time period\n",
        "average_downtime = (downtime_hours / total_time) * 100\n",
        "print('The Average Downtime Hours for last month is', average_downtime)"
      ]
    },
    {
      "cell_type": "markdown",
      "metadata": {
        "id": "GYHxRFUb_T51"
      },
      "source": [
        "### <font color='Blue'> *Your turn to code!* </font>"
      ]
    },
    {
      "cell_type": "markdown",
      "metadata": {
        "id": "_9r8WADTrFxZ"
      },
      "source": [
        "<font color='blue'>*The safety of the workers in any business is always an issue of utmost importance, but in the automotive industry, safety incidents are a common issue that must continually be measured carefully to move toward a safer workplace.<br>Therefore, the Safety officer has provided you with the data related to the safety incidents and you need to calculate the Safety Incidents per employee for the last month*"
      ]
    },
    {
      "cell_type": "markdown",
      "metadata": {
        "id": "MfksGI9ouqQr"
      },
      "source": [
        "*Safety incidents per employee = (number of safety incidents in a time period) ÷ (number of employees working during the time period)*"
      ]
    },
    {
      "cell_type": "code",
      "execution_count": null,
      "metadata": {
        "ExecuteTime": {
          "end_time": "2022-01-14T19:00:04.626107Z",
          "start_time": "2022-01-14T19:00:04.609153Z"
        },
        "id": "BRwjpY-26n3F",
        "colab": {
          "base_uri": "https://localhost:8080/"
        },
        "outputId": "1f7a23e5-dbd0-4e15-ee92-81436a705a55"
      },
      "outputs": [
        {
          "output_type": "stream",
          "name": "stdout",
          "text": [
            "0.028\n"
          ]
        }
      ],
      "source": [
        "#Calculate safety incidents per employee\n",
        "safety_incidents = 44 #number of safety incidents in a time period\n",
        "total_employees = 1568 #number of employees working during the time period\n",
        "safety_per_employee= safety_incidents/total_employees\n",
        "\n",
        "print(round(safety_per_employee, 3))"
      ]
    },
    {
      "cell_type": "code",
      "source": [
        "# Take 2 numbers as input from the user and add the numbers\n",
        "\n",
        "num1 = input(\"Enter the first number: \")\n",
        "num2 = input(\"Enter the second number: \")\n",
        "\n",
        "# DATA TYPE CONVERSION\n",
        "num1 = int(num1)\n",
        "num2 = int(num2)\n",
        "print(num1 + num2)"
      ],
      "metadata": {
        "colab": {
          "base_uri": "https://localhost:8080/"
        },
        "id": "2kWjV1YzFGL1",
        "outputId": "edf54d1d-e5c4-4d7d-8d04-5a6541c2d563"
      },
      "execution_count": null,
      "outputs": [
        {
          "output_type": "stream",
          "name": "stdout",
          "text": [
            "Enter the first number: 10\n",
            "Enter the second number: 1\n",
            "11\n"
          ]
        }
      ]
    },
    {
      "cell_type": "code",
      "source": [
        "num1 = int(input(\"Enter the first number: \"))\n",
        "num2 = int(input(\"Enter the second number: \"))\n",
        "print(num1 + num2)"
      ],
      "metadata": {
        "colab": {
          "base_uri": "https://localhost:8080/"
        },
        "id": "3QPOtECdFh_F",
        "outputId": "ff39f3a4-642a-40d7-cb4d-c310c5c33ce3"
      },
      "execution_count": null,
      "outputs": [
        {
          "output_type": "stream",
          "name": "stdout",
          "text": [
            "Enter the first number: 10\n",
            "Enter the second number: 1\n",
            "11\n"
          ]
        }
      ]
    },
    {
      "cell_type": "markdown",
      "metadata": {
        "id": "Thu0zXj4SpyS"
      },
      "source": [
        "# <font color='Blue'> Data Structures"
      ]
    },
    {
      "cell_type": "markdown",
      "metadata": {
        "id": "ihgVKleG6n3G"
      },
      "source": [
        "<font color='blue'>*The Marketing team has given you the type of products the company is manufacturing. To keep things in order, let's store all the data in a variable.<br> Since we already know how to store values in a variable, let's start by storing the type of cars manufactured.*"
      ]
    },
    {
      "cell_type": "code",
      "execution_count": null,
      "metadata": {
        "ExecuteTime": {
          "end_time": "2022-01-14T19:00:04.735815Z",
          "start_time": "2022-01-14T19:00:04.722847Z"
        },
        "id": "J_Ps1dEP6n3G"
      },
      "outputs": [],
      "source": [
        "car_type_1 = 'Sedan'\n",
        "car_type_2 = 'Hatchback'\n",
        "car_type_3 = 'SUV'\n",
        "car_type_4 = 'MUV'"
      ]
    },
    {
      "cell_type": "markdown",
      "metadata": {
        "id": "GtCvIQb66n3H"
      },
      "source": [
        "<font color='blue'>*But storing each value in a different variable will be a very lengthy process in case the data is huge. Therefore, we need a way to store multiple values in a single variable.*\n",
        "\n",
        "<font color='blue'>For this, **list** data structure can be used."
      ]
    },
    {
      "cell_type": "markdown",
      "metadata": {
        "id": "hFiWffwUGbfx"
      },
      "source": [
        "## <font color='Blue'>List"
      ]
    },
    {
      "cell_type": "code",
      "execution_count": null,
      "metadata": {
        "ExecuteTime": {
          "end_time": "2022-01-14T19:00:04.783686Z",
          "start_time": "2022-01-14T19:00:04.773769Z"
        },
        "colab": {
          "base_uri": "https://localhost:8080/"
        },
        "id": "n8vfQFd26n3I",
        "outputId": "9b8b128d-8eec-4b06-ab14-1c34ee3f31d4"
      },
      "outputs": [
        {
          "output_type": "stream",
          "name": "stdout",
          "text": [
            "Cars: ['Sedan', 'Hatchback', 'SUV', 'MUV']\n"
          ]
        }
      ],
      "source": [
        "cars_type = [\"Sedan\", \"Hatchback\", \"SUV\", \"MUV\"]\n",
        "print('Cars:',cars_type)"
      ]
    },
    {
      "cell_type": "code",
      "source": [
        "print(type(cars_type))"
      ],
      "metadata": {
        "colab": {
          "base_uri": "https://localhost:8080/"
        },
        "id": "PcFeDuqmIQIl",
        "outputId": "1975565f-7fd2-45f1-fbcf-0580c90869d8"
      },
      "execution_count": null,
      "outputs": [
        {
          "output_type": "stream",
          "name": "stdout",
          "text": [
            "<class 'list'>\n"
          ]
        }
      ]
    },
    {
      "cell_type": "markdown",
      "metadata": {
        "id": "xRkXLqge6n3H"
      },
      "source": [
        "**A list in Python is an ordered group of items or elements, and these list elements don't have\n",
        "to be of the same type. Python Lists are mutable objects that can change their values.<br>\n",
        "<br>A list contains items separated by commas and enclosed within square brackets.\n",
        "List indices, like strings, start at 0 at the beginning of the list and work their way from -1 at the end.**"
      ]
    },
    {
      "cell_type": "markdown",
      "metadata": {
        "id": "7khw9tUd6n3I"
      },
      "source": [
        "<font color='blue'>*All types of cars are now being stored in a single variable. Similarly, we can do the same process for other attributes as well.*"
      ]
    },
    {
      "cell_type": "code",
      "execution_count": null,
      "metadata": {
        "ExecuteTime": {
          "end_time": "2022-01-14T19:00:04.815600Z",
          "start_time": "2022-01-14T19:00:04.805626Z"
        },
        "colab": {
          "base_uri": "https://localhost:8080/"
        },
        "id": "dGee7noPCAc7",
        "outputId": "c1c1a061-f36c-425f-a8fb-580da462403d"
      },
      "outputs": [
        {
          "output_type": "stream",
          "name": "stdout",
          "text": [
            "Mileage: [15, 19, 12, 10]\n"
          ]
        }
      ],
      "source": [
        "mileage = [15, 19, 12, 10]\n",
        "print('Mileage:',mileage)"
      ]
    },
    {
      "cell_type": "markdown",
      "metadata": {
        "id": "IB3Q88-s_T53"
      },
      "source": [
        "### <font color='Blue'> *Your turn to code!* </font>"
      ]
    },
    {
      "cell_type": "code",
      "execution_count": null,
      "metadata": {
        "ExecuteTime": {
          "end_time": "2022-01-14T19:00:04.847555Z",
          "start_time": "2022-01-14T19:00:04.842529Z"
        },
        "id": "vQjlykuK_T53",
        "colab": {
          "base_uri": "https://localhost:8080/"
        },
        "outputId": "255f7553-6dd6-4ed1-f558-ff757ab067fc"
      },
      "outputs": [
        {
          "output_type": "stream",
          "name": "stdout",
          "text": [
            "[200, 652, 412, 123]\n"
          ]
        }
      ],
      "source": [
        "# Create a list that contains the values for sales that happened to date. The values are 200, 652, 412, 123 for \"Sedan\", \"Hatchback\", \"SUV\", \"MUV\" respectively\n",
        "# print those values as well\n",
        "sales = [200, 652, 412, 123]\n",
        "print(sales)"
      ]
    },
    {
      "cell_type": "markdown",
      "metadata": {
        "id": "4btuKswAEOWb"
      },
      "source": [
        "\n",
        "**You can also do modifications and access the elements in the list as lists are mutable.**\n"
      ]
    },
    {
      "cell_type": "markdown",
      "metadata": {
        "id": "teVzOjWJ6n3J"
      },
      "source": [
        "<font color='blue'>*Due to the less demand for MUV cars in the market, the company has decided to stop the production of these types of cars and instead introduce a new type in the market. <br>As per the reports received from the Marketing team, the data shows that demand for Hybrid cars is high among a significant amount of population and hence, company has decided to launch its new Hybrid car in the market this month.*"
      ]
    },
    {
      "cell_type": "code",
      "execution_count": null,
      "metadata": {
        "ExecuteTime": {
          "end_time": "2022-01-14T19:00:04.895386Z",
          "start_time": "2022-01-14T19:00:04.887407Z"
        },
        "colab": {
          "base_uri": "https://localhost:8080/"
        },
        "id": "Szi0CwYAEMki",
        "outputId": "a66c7a96-54db-4f3e-a6d5-5b462700f272"
      },
      "outputs": [
        {
          "output_type": "stream",
          "name": "stdout",
          "text": [
            "Cars: ['Sedan', 'Hatchback', 'SUV']\n"
          ]
        }
      ],
      "source": [
        "cars_type.remove(\"MUV\") # remove() method removes the first matching element from the list, value 'MUV' is removed from the variables cars_type\n",
        "\n",
        "print('Cars:',cars_type)"
      ]
    },
    {
      "cell_type": "code",
      "execution_count": null,
      "metadata": {
        "ExecuteTime": {
          "end_time": "2022-01-14T19:00:04.911343Z",
          "start_time": "2022-01-14T19:00:04.899377Z"
        },
        "colab": {
          "base_uri": "https://localhost:8080/"
        },
        "id": "QqypibKF6n3K",
        "outputId": "4f034bcd-14ce-4699-e20a-fadc863f6a3e"
      },
      "outputs": [
        {
          "output_type": "stream",
          "name": "stdout",
          "text": [
            "Cars: ['Sedan', 'Hatchback', 'SUV', 'Hybrid_car']\n"
          ]
        }
      ],
      "source": [
        "cars_type.append(\"Hybrid_car\") # append() method in python adds a single item to the existing list, it adds the new type Hybrid_car to the list variable cars_type\n",
        "\n",
        "print('Cars:',cars_type)"
      ]
    },
    {
      "cell_type": "code",
      "source": [
        "print(cars_type)"
      ],
      "metadata": {
        "colab": {
          "base_uri": "https://localhost:8080/"
        },
        "id": "oDTcSpCBJAyD",
        "outputId": "9adce06c-27dc-4d3b-c644-d5d2e712c0f4"
      },
      "execution_count": null,
      "outputs": [
        {
          "output_type": "stream",
          "name": "stdout",
          "text": [
            "['Sedan', 'Hatchback', 'SUV', 'Hybrid_car']\n"
          ]
        }
      ]
    },
    {
      "cell_type": "code",
      "source": [
        "print(cars_type[1])"
      ],
      "metadata": {
        "colab": {
          "base_uri": "https://localhost:8080/"
        },
        "id": "TdCxtfh9JL70",
        "outputId": "554138e8-5046-4535-f5ee-ed3c1ac47d74"
      },
      "execution_count": null,
      "outputs": [
        {
          "output_type": "stream",
          "name": "stdout",
          "text": [
            "Hatchback\n"
          ]
        }
      ]
    },
    {
      "cell_type": "code",
      "source": [
        "print(cars_type[-3])"
      ],
      "metadata": {
        "colab": {
          "base_uri": "https://localhost:8080/"
        },
        "id": "N6eRVLbFJanh",
        "outputId": "16eba3c6-9b24-4c33-f9da-1433910521b5"
      },
      "execution_count": null,
      "outputs": [
        {
          "output_type": "stream",
          "name": "stdout",
          "text": [
            "Hatchback\n"
          ]
        }
      ]
    },
    {
      "cell_type": "markdown",
      "metadata": {
        "id": "M9vH47WqFW2S"
      },
      "source": [
        "**The list index starts with 0 in Python. So, the index value of the 1st element is 0, similarly, for the 2nd and 3rd element, it is 1 and 2 respectively. And so on...**"
      ]
    },
    {
      "cell_type": "markdown",
      "metadata": {
        "id": "qslhbURm_T54"
      },
      "source": [
        "<img align='right' src=https://files.realpython.com/media/t.c11ea56e8ca2.png width=\"1000\" height=\"400\" />"
      ]
    },
    {
      "cell_type": "markdown",
      "metadata": {
        "id": "zjMVvnu-6n3L"
      },
      "source": [
        "<font color='blue'>*You still have the data associated with the MUV type of cars and new data for the Hybrid car. So instead of deleting the previous data and adding the new data, you can also replace it with new data from Hybrid car. Therefore instead of using the remove and append function, you can also modify the elements by accessing the index values.*"
      ]
    },
    {
      "cell_type": "code",
      "source": [
        "mileage"
      ],
      "metadata": {
        "colab": {
          "base_uri": "https://localhost:8080/"
        },
        "id": "yf16avOTJlOB",
        "outputId": "6ff33d6b-f881-4fed-a135-f37c287e82f3"
      },
      "execution_count": null,
      "outputs": [
        {
          "output_type": "execute_result",
          "data": {
            "text/plain": [
              "[15, 19, 12, 10]"
            ]
          },
          "metadata": {},
          "execution_count": 33
        }
      ]
    },
    {
      "cell_type": "code",
      "execution_count": null,
      "metadata": {
        "ExecuteTime": {
          "end_time": "2022-01-14T19:00:04.990133Z",
          "start_time": "2022-01-14T19:00:04.972222Z"
        },
        "colab": {
          "base_uri": "https://localhost:8080/"
        },
        "id": "0vD_4x_HFZSc",
        "outputId": "317d1176-0cac-4082-9023-77f372c3d924"
      },
      "outputs": [
        {
          "output_type": "stream",
          "name": "stdout",
          "text": [
            "Mileage: [15, 19, 12, 9]\n"
          ]
        }
      ],
      "source": [
        "mileage[3] = 9 # modifying the mileage data [replacing 3rd index position i.e. 10 with a new value 9]\n",
        "print('Mileage:',mileage)"
      ]
    },
    {
      "cell_type": "code",
      "source": [
        "fruits = ['apple', 'mango', 'grapes']\n",
        "print(fruits)"
      ],
      "metadata": {
        "colab": {
          "base_uri": "https://localhost:8080/"
        },
        "id": "bi8Ml2LxJy87",
        "outputId": "3ea8f4a5-d5ca-4942-8c61-cb08c0b554a8"
      },
      "execution_count": null,
      "outputs": [
        {
          "output_type": "stream",
          "name": "stdout",
          "text": [
            "['apple', 'mango', 'grapes']\n"
          ]
        }
      ]
    },
    {
      "cell_type": "code",
      "source": [
        "fruits.insert(2, 'kiwi')\n",
        "print(fruits)"
      ],
      "metadata": {
        "colab": {
          "base_uri": "https://localhost:8080/"
        },
        "id": "WrwXw28GJ1lC",
        "outputId": "6d93fdfe-45ae-4493-9394-965228b5475a"
      },
      "execution_count": null,
      "outputs": [
        {
          "output_type": "stream",
          "name": "stdout",
          "text": [
            "['apple', 'mango', 'kiwi', 'grapes']\n"
          ]
        }
      ]
    },
    {
      "cell_type": "markdown",
      "metadata": {
        "id": "XUQDbvgMQnaV"
      },
      "source": [
        "<font color='blue'>*Instead of getting a single element, you can also get a section of list by slicing the list*"
      ]
    },
    {
      "cell_type": "code",
      "source": [
        "print(cars_type)"
      ],
      "metadata": {
        "colab": {
          "base_uri": "https://localhost:8080/"
        },
        "id": "sWtJanqXKRxp",
        "outputId": "05e11cde-2f62-4901-b840-efbcc8d478f4"
      },
      "execution_count": null,
      "outputs": [
        {
          "output_type": "stream",
          "name": "stdout",
          "text": [
            "['Sedan', 'Hatchback', 'SUV', 'Hybrid_car']\n"
          ]
        }
      ]
    },
    {
      "cell_type": "code",
      "source": [
        "#cars_type[start_index: end_index + 1]\n",
        "cars_type[0:3]"
      ],
      "metadata": {
        "colab": {
          "base_uri": "https://localhost:8080/"
        },
        "id": "xqn1rBQuKUlh",
        "outputId": "1f2e21c9-23f1-4bdf-e4f2-9eac809ada54"
      },
      "execution_count": null,
      "outputs": [
        {
          "output_type": "execute_result",
          "data": {
            "text/plain": [
              "['Sedan', 'Hatchback', 'SUV']"
            ]
          },
          "metadata": {},
          "execution_count": 38
        }
      ]
    },
    {
      "cell_type": "code",
      "execution_count": null,
      "metadata": {
        "colab": {
          "base_uri": "https://localhost:8080/"
        },
        "id": "fDEFs0DHQQMo",
        "outputId": "b1be119f-d377-4399-c274-a37e6e994e00"
      },
      "outputs": [
        {
          "output_type": "execute_result",
          "data": {
            "text/plain": [
              "['Sedan', 'Hatchback']"
            ]
          },
          "metadata": {},
          "execution_count": 39
        }
      ],
      "source": [
        "cars_type[0:2] # will return the first two elements of cars_type which are indexed as 0 and 1.\n",
        "              #NOTE- [a:b], this will take elements from 'a' to 'b-1'"
      ]
    },
    {
      "cell_type": "markdown",
      "metadata": {
        "id": "8LV2X0pE_T55"
      },
      "source": [
        "### <font color='Blue'> *Your turn to code!* </font>"
      ]
    },
    {
      "cell_type": "code",
      "execution_count": null,
      "metadata": {
        "ExecuteTime": {
          "end_time": "2022-01-14T19:00:05.022048Z",
          "start_time": "2022-01-14T19:00:05.010080Z"
        },
        "id": "7DohRVoI_T55"
      },
      "outputs": [],
      "source": [
        "# Remove the last element from the variable you created for sales to date using negative indexing\n",
        "del sales[-1]"
      ]
    },
    {
      "cell_type": "code",
      "source": [
        "sales"
      ],
      "metadata": {
        "colab": {
          "base_uri": "https://localhost:8080/"
        },
        "id": "9RaYwElTKnJN",
        "outputId": "aad6ced7-3ba5-4cdb-b638-ec9f754f1f88"
      },
      "execution_count": null,
      "outputs": [
        {
          "output_type": "execute_result",
          "data": {
            "text/plain": [
              "[200, 652, 412]"
            ]
          },
          "metadata": {},
          "execution_count": 41
        }
      ]
    },
    {
      "cell_type": "code",
      "execution_count": null,
      "metadata": {
        "id": "ANbCarOzR2ev",
        "colab": {
          "base_uri": "https://localhost:8080/"
        },
        "outputId": "3ad2dd61-d11d-4ce9-e7c4-584ffd0c73e5"
      },
      "outputs": [
        {
          "output_type": "execute_result",
          "data": {
            "text/plain": [
              "[12, 9]"
            ]
          },
          "metadata": {},
          "execution_count": 42
        }
      ],
      "source": [
        "# print the last two elements of the 'mileage' variable\n",
        "mileage[-2:]"
      ]
    },
    {
      "cell_type": "markdown",
      "metadata": {
        "id": "cdSCj4lW6n3L"
      },
      "source": [
        "<font color='blue'>*An investor has decided to visit the company and has asked you about the car types and sales to date.*"
      ]
    },
    {
      "cell_type": "code",
      "execution_count": null,
      "metadata": {
        "ExecuteTime": {
          "end_time": "2022-01-14T19:00:05.053961Z",
          "start_time": "2022-01-14T19:00:05.037007Z"
        },
        "colab": {
          "base_uri": "https://localhost:8080/"
        },
        "id": "FrpHCWlxJBJx",
        "outputId": "31125da0-f6ab-473e-af33-86782f6ab017"
      },
      "outputs": [
        {
          "output_type": "stream",
          "name": "stdout",
          "text": [
            "The total number of car types manufactured are 4\n"
          ]
        }
      ],
      "source": [
        "# To get the number of cars produced in company, you find the length of list 'cars'\n",
        "print('The total number of car types manufactured are',len(cars_type))\n"
      ]
    },
    {
      "cell_type": "markdown",
      "metadata": {
        "id": "b2hPE5Gz_T56"
      },
      "source": [
        "### <font color='Blue'> *Your turn to code!* </font>"
      ]
    },
    {
      "cell_type": "code",
      "execution_count": null,
      "metadata": {
        "ExecuteTime": {
          "end_time": "2022-01-14T19:00:05.084878Z",
          "start_time": "2022-01-14T19:00:05.071914Z"
        },
        "id": "3bcnh2rH_T56",
        "colab": {
          "base_uri": "https://localhost:8080/"
        },
        "outputId": "67fd339a-551e-4c1a-d7f5-064b305e11ed"
      },
      "outputs": [
        {
          "output_type": "execute_result",
          "data": {
            "text/plain": [
              "1264"
            ]
          },
          "metadata": {},
          "execution_count": 44
        }
      ],
      "source": [
        "# Calculate the total sales that happened to date using the variable you created above.\n",
        "#HINT: you can use the built-in function 'sum' to calculate the total sales\n",
        "sum(sales)"
      ]
    },
    {
      "cell_type": "markdown",
      "metadata": {
        "id": "h_M0rXEcGYqr"
      },
      "source": [
        "## <font color='Blue'> Tuple"
      ]
    },
    {
      "cell_type": "markdown",
      "metadata": {
        "id": "UCdlyTXxGeNi"
      },
      "source": [
        "<font color='blue'>*After receiving the new report, you decide to store some fixed values which are not going to be changed like number of seats in a car, etc.<br>\n",
        "Since this data need not be changed in future, you decide to use a tuple data structure. Reason: They are immutable.*"
      ]
    },
    {
      "cell_type": "code",
      "execution_count": null,
      "metadata": {
        "ExecuteTime": {
          "end_time": "2022-01-14T19:00:05.147712Z",
          "start_time": "2022-01-14T19:00:05.139732Z"
        },
        "colab": {
          "base_uri": "https://localhost:8080/"
        },
        "id": "PNcoQP1NF9GC",
        "outputId": "22998786-6626-460f-8f1c-e0b7385830e3"
      },
      "outputs": [
        {
          "output_type": "stream",
          "name": "stdout",
          "text": [
            "The number of seats for each type of car are (5, 4, 6, 8)\n"
          ]
        }
      ],
      "source": [
        "# car sitting\n",
        "sitting = (5, 4, 6, 8) # ['Sedan', 'Hatchback', 'SUV', 'Hybrid_car']\n",
        "print('The number of seats for each type of car are',sitting)"
      ]
    },
    {
      "cell_type": "markdown",
      "metadata": {
        "id": "S7r2bAEa6n3M"
      },
      "source": [
        "**A tuple is a collection that is ordered and unchangeable. In Python, tuples are written with parentheses. Python Tuples are immutable objects that cannot be changed once they have been created.<br>\n",
        "<br>A tuple contains items separated by commas and enclosed in parentheses instead of square brackets. You can update an existing tuple by (re)assigning a variable to another tuple.<br>\n",
        "<br>The rules for tuple indices are the same as for lists and they have similar operations and functions as well.**"
      ]
    },
    {
      "cell_type": "markdown",
      "metadata": {
        "id": "2hRJ8CRuSe8h"
      },
      "source": [
        "### <font color='Blue'> *Your turn to code!* </font>"
      ]
    },
    {
      "cell_type": "code",
      "execution_count": null,
      "metadata": {
        "id": "u1vfe-sBSbsK",
        "colab": {
          "base_uri": "https://localhost:8080/"
        },
        "outputId": "0c956124-6c08-4eb9-87c2-42c5935ca4b4"
      },
      "outputs": [
        {
          "output_type": "stream",
          "name": "stdout",
          "text": [
            "(2200, 1800, 2500, 3000)\n",
            "<class 'tuple'>\n"
          ]
        }
      ],
      "source": [
        "# consider the Engine Size in cc for each car type is 2200, 1800, 2500, 3000.\n",
        "# create a variable and store these values in Tuple Data Structure and print the results\n",
        "engine_size = (2200, 1800, 2500, 3000)\n",
        "print(engine_size)\n",
        "print(type(engine_size))"
      ]
    },
    {
      "cell_type": "markdown",
      "metadata": {
        "id": "oumXZIBYHHdC"
      },
      "source": [
        "## <font color='Blue'> Dictionary\n"
      ]
    },
    {
      "cell_type": "markdown",
      "metadata": {
        "id": "UALI9xgG6n3O"
      },
      "source": [
        "<font color='blue'>*So the above data we have stored in a List or Tuple for each type of car is not linked directly with the type of car. To link data with each other Dictionaries are used.<br>Let's create a dictionary to store the sales figures of last month based on car types in a key: value format*"
      ]
    },
    {
      "cell_type": "code",
      "execution_count": null,
      "metadata": {
        "ExecuteTime": {
          "end_time": "2022-01-14T19:00:05.242457Z",
          "start_time": "2022-01-14T19:00:05.227497Z"
        },
        "colab": {
          "base_uri": "https://localhost:8080/"
        },
        "id": "t_AfQ7KeHEFr",
        "outputId": "ff6bae11-1758-4fc0-91e4-45fbd8b608e9"
      },
      "outputs": [
        {
          "output_type": "stream",
          "name": "stdout",
          "text": [
            "Sales last month: {'Sedan': 2, 'Hatchback': 3, 'SUV': 1.5, 'Hybrid_car': 0}\n"
          ]
        }
      ],
      "source": [
        "sales_last_month = {'Sedan': 2, 'Hatchback':3, 'SUV':1.5, 'Hybrid_car':0} # in crores\n",
        "print('Sales last month:',sales_last_month)"
      ]
    },
    {
      "cell_type": "markdown",
      "metadata": {
        "id": "wMF0NSTK6n3O"
      },
      "source": [
        "**A dictionary is a collection that is unordered, mutable, and indexed. They have keys and values.**<br>\n",
        "* Each key is separated from its value by a colon (:), the items are separated by commas, and the whole thing is enclosed in curly braces<br>\n",
        "* Keys are unique within a dictionary while values may not be\n",
        "* The values of a dictionary can be of any type"
      ]
    },
    {
      "cell_type": "code",
      "execution_count": null,
      "metadata": {
        "ExecuteTime": {
          "end_time": "2022-01-14T19:00:05.258415Z",
          "start_time": "2022-01-14T19:00:05.246447Z"
        },
        "colab": {
          "base_uri": "https://localhost:8080/"
        },
        "id": "PuUXcyjpHd8C",
        "outputId": "59d0324f-4015-46b7-9b9f-b19091551e15"
      },
      "outputs": [
        {
          "output_type": "stream",
          "name": "stdout",
          "text": [
            "dict_keys(['Sedan', 'Hatchback', 'SUV', 'Hybrid_car'])\n",
            "dict_values([2, 3, 1.5, 0])\n"
          ]
        }
      ],
      "source": [
        "# getting the keys\n",
        "print(sales_last_month.keys()) # gives the list of keys in dictionary\n",
        "\n",
        "print(sales_last_month.values()) # gives the list of values in dictionary"
      ]
    },
    {
      "cell_type": "code",
      "source": [
        "print(sales_last_month['Hatchback'])"
      ],
      "metadata": {
        "colab": {
          "base_uri": "https://localhost:8080/"
        },
        "id": "rIwQt4hzMU2j",
        "outputId": "bf68f503-845c-4b9d-e369-87a2f867a0c9"
      },
      "execution_count": null,
      "outputs": [
        {
          "output_type": "stream",
          "name": "stdout",
          "text": [
            "3\n"
          ]
        }
      ]
    },
    {
      "cell_type": "markdown",
      "metadata": {
        "id": "gApx51OTuAqf"
      },
      "source": [
        "**Like Lists, you can also do the modification in Dictionaries as well, for example Slicing, Updating and Adding new values**"
      ]
    },
    {
      "cell_type": "markdown",
      "metadata": {
        "id": "HBzVQwfPH7ri"
      },
      "source": [
        "<font color='blue'>*Just now you received a notification that the first model of Hybrid car has been sold last month.<br>\n",
        "So you decide to change it in your dictionary data accordingly*"
      ]
    },
    {
      "cell_type": "code",
      "execution_count": null,
      "metadata": {
        "ExecuteTime": {
          "end_time": "2022-01-14T19:00:05.290330Z",
          "start_time": "2022-01-14T19:00:05.275371Z"
        },
        "id": "omp5TFSOH1uJ"
      },
      "outputs": [],
      "source": [
        "initial = sales_last_month[\"Hybrid_car\"]\n",
        "print(initial)"
      ]
    },
    {
      "cell_type": "code",
      "execution_count": null,
      "metadata": {
        "ExecuteTime": {
          "end_time": "2022-01-14T19:00:05.306288Z",
          "start_time": "2022-01-14T19:00:05.293323Z"
        },
        "colab": {
          "base_uri": "https://localhost:8080/"
        },
        "id": "SiGjwVJi6n3P",
        "outputId": "1887c9aa-670d-43c3-8cb7-5396aadcaa27"
      },
      "outputs": [
        {
          "output_type": "stream",
          "name": "stdout",
          "text": [
            "Sales last month: {'Sedan': 2, 'Hatchback': 3, 'SUV': 1.5, 'Hybrid_car': 0.25}\n"
          ]
        }
      ],
      "source": [
        "sales_last_month[\"Hybrid_car\"] = 0.25\n",
        "print('Sales last month:',sales_last_month)"
      ]
    },
    {
      "cell_type": "markdown",
      "metadata": {
        "id": "icbHt48yJobJ"
      },
      "source": [
        "**You can also check the type of data structures as we did while going through int, str and float**"
      ]
    },
    {
      "cell_type": "code",
      "execution_count": null,
      "metadata": {
        "ExecuteTime": {
          "end_time": "2022-01-14T19:00:05.338204Z",
          "start_time": "2022-01-14T19:00:05.328229Z"
        },
        "colab": {
          "base_uri": "https://localhost:8080/"
        },
        "id": "rGZo6dZOIoYK",
        "outputId": "b7f1dca0-d4cc-40f2-fadc-ade9aa90ba79"
      },
      "outputs": [
        {
          "output_type": "stream",
          "name": "stdout",
          "text": [
            "The type of data structure for variable cars is <class 'list'>\n",
            "The type of data structure for variable sales last month is <class 'dict'>\n"
          ]
        }
      ],
      "source": [
        "print('The type of data structure for variable cars is',type(cars_type))\n",
        "print('The type of data structure for variable sales last month is',type(sales_last_month))"
      ]
    },
    {
      "cell_type": "markdown",
      "metadata": {
        "id": "HAUT16RW_T59"
      },
      "source": [
        "### <font color='Blue'> *Your turn to code!* </font>"
      ]
    },
    {
      "cell_type": "code",
      "execution_count": null,
      "metadata": {
        "ExecuteTime": {
          "end_time": "2022-01-14T19:00:05.370117Z",
          "start_time": "2022-01-14T19:00:05.360144Z"
        },
        "id": "kGPmcc5I_T59"
      },
      "outputs": [],
      "source": [
        "# Check the data structure type for variable 'sitting'\n"
      ]
    },
    {
      "cell_type": "markdown",
      "metadata": {
        "id": "7LTcFyA4TeFb"
      },
      "source": [
        "# <font color='Blue'>Comparison Operators\n"
      ]
    },
    {
      "cell_type": "code",
      "source": [
        "10 > 5"
      ],
      "metadata": {
        "colab": {
          "base_uri": "https://localhost:8080/"
        },
        "id": "witqm6jPMsHA",
        "outputId": "a769188d-80b0-4863-96c9-de4739aca6b7"
      },
      "execution_count": null,
      "outputs": [
        {
          "output_type": "execute_result",
          "data": {
            "text/plain": [
              "True"
            ]
          },
          "metadata": {},
          "execution_count": 53
        }
      ]
    },
    {
      "cell_type": "code",
      "source": [
        "10 > 20"
      ],
      "metadata": {
        "colab": {
          "base_uri": "https://localhost:8080/"
        },
        "id": "1ayrPa_eMtXP",
        "outputId": "936bdbf3-5fb1-4e77-9e73-2d60e091bb8d"
      },
      "execution_count": null,
      "outputs": [
        {
          "output_type": "execute_result",
          "data": {
            "text/plain": [
              "False"
            ]
          },
          "metadata": {},
          "execution_count": 55
        }
      ]
    },
    {
      "cell_type": "markdown",
      "metadata": {
        "id": "ljDxHaBp2mTZ"
      },
      "source": [
        "**Comparison operators are used for comparing the values. It either returns True or False according to the condition.**"
      ]
    },
    {
      "cell_type": "markdown",
      "metadata": {
        "id": "foEftJgtT50B"
      },
      "source": [
        "<font color='blue'>*To prepare monthly report, Marketing team has requested to know if sales of Sedans are higher than Hybrid car so that they can decide which type of car to promote more and optimize their marketing costs accordingly.<br>Let's compare the sales from last month for different car types.*"
      ]
    },
    {
      "cell_type": "code",
      "execution_count": null,
      "metadata": {
        "colab": {
          "base_uri": "https://localhost:8080/"
        },
        "id": "nzFAg9xjTkc3",
        "outputId": "671f88fb-87e1-4dfa-99d7-5765bbc00a35"
      },
      "outputs": [
        {
          "output_type": "execute_result",
          "data": {
            "text/plain": [
              "True"
            ]
          },
          "metadata": {},
          "execution_count": 56
        }
      ],
      "source": [
        "sales_last_month['Sedan'] > sales_last_month['Hybrid_car']"
      ]
    },
    {
      "cell_type": "markdown",
      "metadata": {
        "id": "mptkHjYYf40m"
      },
      "source": [
        "<font color='blue'>*This shows that sales of Sedans are higher than sales of Hybrid car for last month.*"
      ]
    },
    {
      "cell_type": "code",
      "source": [
        "10 == 10"
      ],
      "metadata": {
        "colab": {
          "base_uri": "https://localhost:8080/"
        },
        "id": "aqHq5F8kM_D-",
        "outputId": "a5623b7f-6f73-4bcb-a988-d74aa35d21ce"
      },
      "execution_count": null,
      "outputs": [
        {
          "output_type": "execute_result",
          "data": {
            "text/plain": [
              "True"
            ]
          },
          "metadata": {},
          "execution_count": 58
        }
      ]
    },
    {
      "cell_type": "markdown",
      "metadata": {
        "id": "zOJ4yBAXUQAx"
      },
      "source": [
        "**If the condition applied is valid, then it will result as *'True'* output, otherwise will return *'False'* as an output.<br>Below are some common operators used in Python:**"
      ]
    },
    {
      "cell_type": "markdown",
      "metadata": {
        "id": "K0_YjikWg8-4"
      },
      "source": [
        "|Operator|Symbol in Python|Description|\n",
        "|---|---|---|\n",
        "|Equals| ==|If the values of two operands are equal, then the condition becomes true.|\n",
        "|Not Equal to|!=|If values of two operands are not equal, then condition becomes true.\n",
        "| Greater than| >|If the value of left operand is greater than the value of right operand, then condition becomes true.\n",
        "| Less than| <|If the value of left operand is less than the value of right operand, then condition becomes true.\n",
        "|Greater than or Equal to|>=|If the value of left operand is greater than or equal to the value of right operand, then condition becomes true.\n",
        "|Less than or Equal to|<=|If the value of left operand is less than or equal to the value of right operand, then condition becomes true.\n"
      ]
    },
    {
      "cell_type": "markdown",
      "metadata": {
        "id": "LbMqiWQ6VJTH"
      },
      "source": [
        "### <font color='Blue'> *Your turn to code!* </font>"
      ]
    },
    {
      "cell_type": "code",
      "execution_count": null,
      "metadata": {
        "id": "cK2o8aGiTklv",
        "colab": {
          "base_uri": "https://localhost:8080/"
        },
        "outputId": "c897fc8a-2082-4415-db91-7067a7bfd70c"
      },
      "outputs": [
        {
          "output_type": "execute_result",
          "data": {
            "text/plain": [
              "True"
            ]
          },
          "metadata": {},
          "execution_count": 57
        }
      ],
      "source": [
        "# Similarly check whether the sales for car type 'Hatchback' is more than 'SUV' or not\n",
        "sales_last_month['Hatchback'] > sales_last_month['SUV']"
      ]
    },
    {
      "cell_type": "markdown",
      "metadata": {
        "id": "nLv6ijLEKtcZ"
      },
      "source": [
        "# <font color='Blue'>Conditional Statements\n"
      ]
    },
    {
      "cell_type": "markdown",
      "metadata": {
        "id": "6PI735K0WZSP"
      },
      "source": [
        "**Conditional Statement in Python perform different actions depending on whether a specific condition evaluates to true or false.<br>if-else are the conditional statements**"
      ]
    },
    {
      "cell_type": "markdown",
      "metadata": {
        "id": "mRhp3Kfc6n3Q"
      },
      "source": [
        "<font color='blue'>*You have been given the data of car ratings from the customers. Based on this you need to write a program that gives car performance on inputting the car name.*"
      ]
    },
    {
      "cell_type": "code",
      "execution_count": null,
      "metadata": {
        "ExecuteTime": {
          "end_time": "2022-01-14T19:00:05.433946Z",
          "start_time": "2022-01-14T19:00:05.420981Z"
        },
        "colab": {
          "base_uri": "https://localhost:8080/"
        },
        "id": "WywcNnvuKV2Z",
        "outputId": "8b077603-c135-4f81-de01-d14c543082f2"
      },
      "outputs": [
        {
          "output_type": "stream",
          "name": "stdout",
          "text": [
            "Ratings of each car: {'Sedan_1': 64, 'Sedan_2': 49, 'Hatchback_1': 59, 'Hatchback_2': 78, 'SUV_1': 32, 'SUV_2': 84, 'MUV_1': 21, 'MUV_2': 31}\n"
          ]
        }
      ],
      "source": [
        "# stored the ratings of each car in a dictionary\n",
        "cars_ratings= {\n",
        "    'Sedan_1': 64,\n",
        "    'Sedan_2': 49,\n",
        "    'Hatchback_1': 59,\n",
        "    'Hatchback_2': 78,\n",
        "    'SUV_1': 32,\n",
        "    'SUV_2': 84,\n",
        "    'MUV_1': 21,\n",
        "    'MUV_2': 31\n",
        "}\n",
        "print('Ratings of each car:', cars_ratings)"
      ]
    },
    {
      "cell_type": "code",
      "source": [
        "cars_ratings.values()"
      ],
      "metadata": {
        "colab": {
          "base_uri": "https://localhost:8080/"
        },
        "id": "MOXtKeoXNgSL",
        "outputId": "ac4137b7-cba5-4702-ffb0-01153424972a"
      },
      "execution_count": null,
      "outputs": [
        {
          "output_type": "execute_result",
          "data": {
            "text/plain": [
              "dict_values([64, 49, 59, 78, 32, 84, 21, 31])"
            ]
          },
          "metadata": {},
          "execution_count": 61
        }
      ]
    },
    {
      "cell_type": "code",
      "source": [
        "cars_ratings.keys()"
      ],
      "metadata": {
        "colab": {
          "base_uri": "https://localhost:8080/"
        },
        "id": "x8OtdaC2NeUy",
        "outputId": "c54ff770-3b69-4737-c8d5-c3185a40192a"
      },
      "execution_count": null,
      "outputs": [
        {
          "output_type": "execute_result",
          "data": {
            "text/plain": [
              "dict_keys(['Sedan_1', 'Sedan_2', 'Hatchback_1', 'Hatchback_2', 'SUV_1', 'SUV_2', 'MUV_1', 'MUV_2'])"
            ]
          },
          "metadata": {},
          "execution_count": 60
        }
      ]
    },
    {
      "cell_type": "markdown",
      "metadata": {
        "id": "52t-lxt7_T5-"
      },
      "source": [
        "## <font color='Blue'> if-else"
      ]
    },
    {
      "cell_type": "code",
      "source": [
        "# Check the bigger of the 2 numbers\n",
        "\n",
        "num1 = 10\n",
        "num2 = 10\n",
        "\n",
        "if num1 > num2:\n",
        "  print('num1 is bigger')\n",
        "elif num1 < num2:\n",
        "  print('num2 is bigger')\n",
        "else:\n",
        "  print('Both are equal')"
      ],
      "metadata": {
        "colab": {
          "base_uri": "https://localhost:8080/"
        },
        "id": "SN-A8rJHN_le",
        "outputId": "a31d4bc8-7a99-4bed-b31b-7709384b7beb"
      },
      "execution_count": null,
      "outputs": [
        {
          "output_type": "stream",
          "name": "stdout",
          "text": [
            "num2 is bigger\n"
          ]
        }
      ]
    },
    {
      "cell_type": "code",
      "execution_count": null,
      "metadata": {
        "ExecuteTime": {
          "end_time": "2022-01-14T19:00:05.481817Z",
          "start_time": "2022-01-14T19:00:05.462868Z"
        },
        "colab": {
          "base_uri": "https://localhost:8080/"
        },
        "id": "fcP_d-_i6n3R",
        "outputId": "3ed326c1-3db7-493b-e2c9-c06ecede7cde"
      },
      "outputs": [
        {
          "output_type": "stream",
          "name": "stdout",
          "text": [
            "Sedan_1 performs well\n"
          ]
        }
      ],
      "source": [
        "# a car is said to be well-performing if it's rating is greater than 50\n",
        "# check whether Sedan_1 is a good performer\n",
        "\n",
        "if(cars_ratings['Sedan_1']<50): # checking if it's lower than 50\n",
        "  print(\"Sedan_1 is not performing well\")\n",
        "\n",
        "else:\n",
        "  print(\"Sedan_1 performs well\")"
      ]
    },
    {
      "cell_type": "markdown",
      "metadata": {
        "id": "SGGcEXz03o-r"
      },
      "source": [
        "**Python if Statement is used for decision-making operations. It contains a body of code which runs only when the condition given in the if statement is true. If the condition is false, then the optional else statement runs which contains some code for the else condition.**"
      ]
    },
    {
      "cell_type": "markdown",
      "metadata": {
        "id": "Whmr-nG2_T5-"
      },
      "source": [
        "### <font color='Blue'> *Your turn to code!* </font>"
      ]
    },
    {
      "cell_type": "code",
      "execution_count": null,
      "metadata": {
        "ExecuteTime": {
          "end_time": "2022-01-14T19:00:05.544649Z",
          "start_time": "2022-01-14T19:00:05.526698Z"
        },
        "id": "g1s7CgS1_T5-",
        "colab": {
          "base_uri": "https://localhost:8080/"
        },
        "outputId": "5e37d83f-e5a5-428c-def5-0c7c19f45931"
      },
      "outputs": [
        {
          "output_type": "stream",
          "name": "stdout",
          "text": [
            "MUV_1 is not performing well\n",
            "MUV_2 is not performing well\n"
          ]
        }
      ],
      "source": [
        "# Create a conditional statement to check the performance for MUV_1 and MUV_2\n",
        "if cars_ratings['MUV_1'] < 50:\n",
        "  print('MUV_1 is not performing well')\n",
        "else:\n",
        "  print('MUV_1 is performing well')\n",
        "\n",
        "\n",
        "if cars_ratings['MUV_2'] < 50:\n",
        "  print('MUV_2 is not performing well')\n",
        "else:\n",
        "  print('MUV_2 is performing well')"
      ]
    },
    {
      "cell_type": "markdown",
      "metadata": {
        "id": "NoIqhKQ0jPZD"
      },
      "source": [
        "# <font color='Blue'>Loops"
      ]
    },
    {
      "cell_type": "markdown",
      "metadata": {
        "id": "DNXVwlq3UYgC"
      },
      "source": [
        "## <font color='Blue'> \"for\" Loop"
      ]
    },
    {
      "cell_type": "code",
      "source": [
        "my_list = [1,2,3,4]\n",
        "print(my_list[0] ** 2)\n",
        "print(my_list[1] ** 2)\n",
        "print(my_list[2] ** 2)\n",
        "print(my_list[3] ** 2)"
      ],
      "metadata": {
        "colab": {
          "base_uri": "https://localhost:8080/"
        },
        "id": "XG2NlBK4O2Jp",
        "outputId": "0b4cb778-f32c-4074-e6ed-8428988a1dc7"
      },
      "execution_count": null,
      "outputs": [
        {
          "output_type": "stream",
          "name": "stdout",
          "text": [
            "1\n",
            "4\n",
            "9\n",
            "16\n"
          ]
        }
      ]
    },
    {
      "cell_type": "code",
      "source": [
        "for value in my_list:\n",
        "  print(value ** 2)"
      ],
      "metadata": {
        "colab": {
          "base_uri": "https://localhost:8080/"
        },
        "id": "A76IYgm7PAK9",
        "outputId": "f7f8d153-015e-4500-8889-421d1adf2987"
      },
      "execution_count": null,
      "outputs": [
        {
          "output_type": "stream",
          "name": "stdout",
          "text": [
            "1\n",
            "4\n",
            "9\n",
            "16\n"
          ]
        }
      ]
    },
    {
      "cell_type": "markdown",
      "metadata": {
        "id": "Y24u9m9Fa4IS"
      },
      "source": [
        "<font color='blue'>*Now in case we need to check for each type of car, we need to write the above code which will become very lengthy in case we have a huge amount of data. Hence, a loop can be used in that situation.*"
      ]
    },
    {
      "cell_type": "code",
      "execution_count": null,
      "metadata": {
        "ExecuteTime": {
          "end_time": "2022-01-14T19:00:05.623438Z",
          "start_time": "2022-01-14T19:00:05.607482Z"
        },
        "colab": {
          "base_uri": "https://localhost:8080/"
        },
        "id": "MvLwN1JLifEM",
        "outputId": "23bab06d-328e-4af5-f063-33f0e4772062",
        "scrolled": true
      },
      "outputs": [
        {
          "output_type": "stream",
          "name": "stdout",
          "text": [
            "Sedan_1\n",
            "Sedan_2\n",
            "Hatchback_1\n",
            "Hatchback_2\n",
            "SUV_1\n",
            "SUV_2\n",
            "MUV_1\n",
            "MUV_2\n"
          ]
        }
      ],
      "source": [
        "car_names= cars_ratings.keys() # this gives a list, remember?\n",
        "\n",
        "# print all car names\n",
        "for car in car_names:\n",
        "  print(car)"
      ]
    },
    {
      "cell_type": "markdown",
      "metadata": {
        "id": "kec1cIPti1Tj"
      },
      "source": [
        "**The *for* loop in Python is used to iterate over a sequence (list, tuple, string) or other iterable objects.\n",
        "<br><br>Loop continues until we reach the last item in the sequence. The body of for loop is separated\n",
        "from the rest of the code using indentation.**"
      ]
    },
    {
      "cell_type": "code",
      "execution_count": null,
      "metadata": {
        "ExecuteTime": {
          "end_time": "2022-01-14T19:00:05.639395Z",
          "start_time": "2022-01-14T19:00:05.626431Z"
        },
        "colab": {
          "base_uri": "https://localhost:8080/"
        },
        "id": "P-bMIBqq6n3T",
        "outputId": "987c788d-8da1-42ea-ef65-4d72bd97c202",
        "scrolled": true
      },
      "outputs": [
        {
          "output_type": "stream",
          "name": "stdout",
          "text": [
            "Sedan_2 is not performing well\n",
            "SUV_1 is not performing well\n",
            "MUV_1 is not performing well\n",
            "MUV_2 is not performing well\n"
          ]
        }
      ],
      "source": [
        "# Get names of all the cars which are under performing\n",
        "for car in car_names:\n",
        "  if cars_ratings[car]<50:\n",
        "    print(car, \"is not performing well\")\n",
        "    #print(f\"{car} is not performing well\") # formatinf string f\"{}\""
      ]
    },
    {
      "cell_type": "markdown",
      "metadata": {
        "id": "PJwBL-Xynh15"
      },
      "source": [
        "<font color='Blue'>*Now you know the reason why MUV production was closed by the company, both of its models weren't performing well.*"
      ]
    },
    {
      "cell_type": "markdown",
      "metadata": {
        "id": "H0pvoHBL_T6B"
      },
      "source": [
        "### <font color='Blue'> *Your turn to code!* </font>"
      ]
    },
    {
      "cell_type": "code",
      "execution_count": null,
      "metadata": {
        "ExecuteTime": {
          "end_time": "2022-01-14T19:00:05.655354Z",
          "start_time": "2022-01-14T19:00:05.648372Z"
        },
        "id": "-j77J9-A_T6C",
        "colab": {
          "base_uri": "https://localhost:8080/"
        },
        "outputId": "7b261ce6-41d0-41cc-8656-f228fc0a58c2"
      },
      "outputs": [
        {
          "output_type": "stream",
          "name": "stdout",
          "text": [
            "Sedan_1 is performing well\n",
            "Hatchback_1 is performing well\n",
            "Hatchback_2 is performing well\n",
            "SUV_2 is performing well\n"
          ]
        }
      ],
      "source": [
        "# Create a for loop to check the performance of cars having ratings greater than 50\n",
        "for car in car_names:\n",
        "  if cars_ratings[car] > 50:\n",
        "    print(f\"{car} is performing well\")"
      ]
    },
    {
      "cell_type": "markdown",
      "metadata": {
        "id": "BsUoEiAx_T6L"
      },
      "source": [
        "#<font color='Blue'>Summary"
      ]
    },
    {
      "cell_type": "markdown",
      "metadata": {
        "id": "XPBNuFAi_T6M"
      },
      "source": [
        "<font size='4'>\n",
        "<li> Understand how to create variables,store data in a variable and check the data types<br>\n",
        "<li> Performed basic Arithmetic operations and storing data in List, Tuple and Dictionaries<br>\n",
        "<li> Performed basic comparison of variables by using different operators<br>\n",
        "<li>Creating conditional statements by passing single conditions as well as multiple conditions.<br>\n",
        "<li>Understand how to execute a similar condition multiple times by creating loops <br>\n",
        "</font>\n"
      ]
    },
    {
      "cell_type": "markdown",
      "metadata": {
        "id": "swjxBJE66n3i"
      },
      "source": [
        "# <font color='blue'>Happy Learning !"
      ]
    },
    {
      "cell_type": "markdown",
      "metadata": {
        "id": "nbe1M_GGsPyb"
      },
      "source": [
        "---"
      ]
    }
  ],
  "metadata": {
    "colab": {
      "collapsed_sections": [
        "BsUoEiAx_T6L"
      ],
      "provenance": []
    },
    "hide_input": false,
    "kernelspec": {
      "display_name": "Python 3 (ipykernel)",
      "language": "python",
      "name": "python3"
    },
    "language_info": {
      "codemirror_mode": {
        "name": "ipython",
        "version": 3
      },
      "file_extension": ".py",
      "mimetype": "text/x-python",
      "name": "python",
      "nbconvert_exporter": "python",
      "pygments_lexer": "ipython3",
      "version": "3.9.13"
    },
    "latex_envs": {
      "LaTeX_envs_menu_present": true,
      "autoclose": false,
      "autocomplete": true,
      "bibliofile": "biblio.bib",
      "cite_by": "apalike",
      "current_citInitial": 1,
      "eqLabelWithNumbers": true,
      "eqNumInitial": 1,
      "hotkeys": {
        "equation": "Ctrl-E",
        "itemize": "Ctrl-I"
      },
      "labels_anchors": false,
      "latex_user_defs": false,
      "report_style_numbering": false,
      "user_envs_cfg": false
    },
    "varInspector": {
      "cols": {
        "lenName": 16,
        "lenType": 16,
        "lenVar": 40
      },
      "kernels_config": {
        "python": {
          "delete_cmd_postfix": "",
          "delete_cmd_prefix": "del ",
          "library": "var_list.py",
          "varRefreshCmd": "print(var_dic_list())"
        },
        "r": {
          "delete_cmd_postfix": ") ",
          "delete_cmd_prefix": "rm(",
          "library": "var_list.r",
          "varRefreshCmd": "cat(var_dic_list()) "
        }
      },
      "types_to_exclude": [
        "module",
        "function",
        "builtin_function_or_method",
        "instance",
        "_Feature"
      ],
      "window_display": false
    }
  },
  "nbformat": 4,
  "nbformat_minor": 0
}